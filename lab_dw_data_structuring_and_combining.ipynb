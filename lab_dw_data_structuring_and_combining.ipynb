{
  "cells": [
    {
      "cell_type": "markdown",
      "id": "25d7736c-ba17-4aff-b6bb-66eba20fbf4e",
      "metadata": {
        "id": "25d7736c-ba17-4aff-b6bb-66eba20fbf4e"
      },
      "source": [
        "# Lab | Data Structuring and Combining Data"
      ]
    },
    {
      "cell_type": "markdown",
      "source": [
        "For Challenge 1, you can either use data which has already been cleaned (option 1) or clean it yourself (option 2)."
      ],
      "metadata": {
        "id": "B_DUtICs91_M"
      },
      "id": "B_DUtICs91_M"
    },
    {
      "cell_type": "markdown",
      "id": "92b5f497-2c72-422b-86f7-06ad8842fd6d",
      "metadata": {
        "id": "92b5f497-2c72-422b-86f7-06ad8842fd6d"
      },
      "source": [
        "## Challenge 1: Combining Data (Option 1)"
      ]
    },
    {
      "cell_type": "markdown",
      "id": "41b48ba0-101f-4611-b8bc-b4d8e05ab2f5",
      "metadata": {
        "id": "41b48ba0-101f-4611-b8bc-b4d8e05ab2f5"
      },
      "source": [
        "In this challenge, we will be working with the customer data from an insurance company, as we did in the two previous labs. The data can be found here:\n",
        "- https://raw.githubusercontent.com/data-bootcamp-v4/data/main/file1.csv\n",
        "\n",
        "But this time, we got new data, which can be found in the following 2 CSV files located at the following links:\n",
        "- https://raw.githubusercontent.com/data-bootcamp-v4/data/main/file2_clean.csv\n",
        "- https://raw.githubusercontent.com/data-bootcamp-v4/data/main/file3_clean.csv\n",
        "\n",
        "Combine the data from the three dataframes into a single dataframe, named \"customer_data\", using appropriate merging, concatenating, and joining techniques.\n",
        "\n",
        "Verify that the customer_data dataframe contains all the rows and columns from the three original dataframes."
      ]
    },
    {
      "cell_type": "markdown",
      "id": "a2cdfc70-44c8-478c-81e7-2bc43fdf4986",
      "metadata": {
        "id": "a2cdfc70-44c8-478c-81e7-2bc43fdf4986"
      },
      "source": [
        "## Challenge 1: Combining & Cleaning Data (Option 2)\n",
        "\n",
        "If in the previous lab you created your cleaning and formatting function, or if you want to do it now, instead of using the two clean files provided above, you can use your function to clean and format the data in these two raw files below:\n",
        "\n",
        "- https://raw.githubusercontent.com/data-bootcamp-v4/data/main/file2.csv\n",
        "- https://raw.githubusercontent.com/data-bootcamp-v4/data/main/file3.csv\n",
        "\n",
        "Observation:\n",
        "- One option is to first combine the three datasets and then apply the cleaning function to the new combined dataset\n",
        "- Another option would be to read the clean file you saved in the previous lab, and just clean the two new files and concatenate the three clean datasets"
      ]
    },
    {
      "cell_type": "code",
      "execution_count": null,
      "id": "492d06e3-92c7-4105-ac72-536db98d3244",
      "metadata": {
        "id": "492d06e3-92c7-4105-ac72-536db98d3244",
        "colab": {
          "base_uri": "https://localhost:8080/",
          "height": 475
        },
        "outputId": "8acdf325-b3e5-4459-af68-4fd9af6ffe60"
      },
      "outputs": [
        {
          "output_type": "execute_result",
          "data": {
            "text/plain": [
              "     customer       state gender             education  \\\n",
              "0     RB50392  Washington  other                Master   \n",
              "1     QZ44356     Arizona      F              Bachelor   \n",
              "2     AI49188      Nevada      F              Bachelor   \n",
              "3     WW63253  California      M              Bachelor   \n",
              "4     GA49547  Washington      M  High School or Below   \n",
              "...       ...         ...    ...                   ...   \n",
              "1066  TM65736      Oregon      M                Master   \n",
              "1067  VJ51327  California      F  High School or Below   \n",
              "1068  GS98873     Arizona      F              Bachelor   \n",
              "1069  CW49887  California      F                Master   \n",
              "1070  MY31220  California      F               College   \n",
              "\n",
              "      customer_lifetime_value   income  monthly_premium_auto  \\\n",
              "0                7.936903e+05      0.0                1000.0   \n",
              "1                6.979536e+05      0.0                  94.0   \n",
              "2                1.288743e+06  48767.0                 108.0   \n",
              "3                7.645862e+05      0.0                 106.0   \n",
              "4                5.363077e+05  36357.0                  68.0   \n",
              "...                       ...      ...                   ...   \n",
              "1066             3.059550e+05  38644.0                  78.0   \n",
              "1067             2.031500e+06  63209.0                 102.0   \n",
              "1068             3.239125e+05  16061.0                  88.0   \n",
              "1069             4.626801e+05  79487.0                 114.0   \n",
              "1070             8.997040e+05  54230.0                 112.0   \n",
              "\n",
              "     number_of_open_complaints     policy_type  vehicle_class  \\\n",
              "0                       1/0/00   Personal Auto  Four-Door Car   \n",
              "1                       1/0/00   Personal Auto  Four-Door Car   \n",
              "2                       1/0/00   Personal Auto   Two-Door Car   \n",
              "3                       1/0/00  Corporate Auto            SUV   \n",
              "4                       1/0/00   Personal Auto  Four-Door Car   \n",
              "...                        ...             ...            ...   \n",
              "1066                    1/1/00   Personal Auto  Four-Door Car   \n",
              "1067                    1/2/00   Personal Auto            SUV   \n",
              "1068                    1/0/00   Personal Auto  Four-Door Car   \n",
              "1069                    1/0/00    Special Auto            SUV   \n",
              "1070                    1/0/00   Personal Auto   Two-Door Car   \n",
              "\n",
              "      total_claim_amount  \n",
              "0               2.704934  \n",
              "1            1131.464935  \n",
              "2             566.472247  \n",
              "3             529.881344  \n",
              "4              17.269323  \n",
              "...                  ...  \n",
              "1066          361.455219  \n",
              "1067          207.320041  \n",
              "1068          633.600000  \n",
              "1069          547.200000  \n",
              "1070          537.600000  \n",
              "\n",
              "[1071 rows x 11 columns]"
            ],
            "text/html": [
              "\n",
              "  <div id=\"df-bc5a1d83-515b-462c-985d-6baef9be363c\" class=\"colab-df-container\">\n",
              "    <div>\n",
              "<style scoped>\n",
              "    .dataframe tbody tr th:only-of-type {\n",
              "        vertical-align: middle;\n",
              "    }\n",
              "\n",
              "    .dataframe tbody tr th {\n",
              "        vertical-align: top;\n",
              "    }\n",
              "\n",
              "    .dataframe thead th {\n",
              "        text-align: right;\n",
              "    }\n",
              "</style>\n",
              "<table border=\"1\" class=\"dataframe\">\n",
              "  <thead>\n",
              "    <tr style=\"text-align: right;\">\n",
              "      <th></th>\n",
              "      <th>customer</th>\n",
              "      <th>state</th>\n",
              "      <th>gender</th>\n",
              "      <th>education</th>\n",
              "      <th>customer_lifetime_value</th>\n",
              "      <th>income</th>\n",
              "      <th>monthly_premium_auto</th>\n",
              "      <th>number_of_open_complaints</th>\n",
              "      <th>policy_type</th>\n",
              "      <th>vehicle_class</th>\n",
              "      <th>total_claim_amount</th>\n",
              "    </tr>\n",
              "  </thead>\n",
              "  <tbody>\n",
              "    <tr>\n",
              "      <th>0</th>\n",
              "      <td>RB50392</td>\n",
              "      <td>Washington</td>\n",
              "      <td>other</td>\n",
              "      <td>Master</td>\n",
              "      <td>7.936903e+05</td>\n",
              "      <td>0.0</td>\n",
              "      <td>1000.0</td>\n",
              "      <td>1/0/00</td>\n",
              "      <td>Personal Auto</td>\n",
              "      <td>Four-Door Car</td>\n",
              "      <td>2.704934</td>\n",
              "    </tr>\n",
              "    <tr>\n",
              "      <th>1</th>\n",
              "      <td>QZ44356</td>\n",
              "      <td>Arizona</td>\n",
              "      <td>F</td>\n",
              "      <td>Bachelor</td>\n",
              "      <td>6.979536e+05</td>\n",
              "      <td>0.0</td>\n",
              "      <td>94.0</td>\n",
              "      <td>1/0/00</td>\n",
              "      <td>Personal Auto</td>\n",
              "      <td>Four-Door Car</td>\n",
              "      <td>1131.464935</td>\n",
              "    </tr>\n",
              "    <tr>\n",
              "      <th>2</th>\n",
              "      <td>AI49188</td>\n",
              "      <td>Nevada</td>\n",
              "      <td>F</td>\n",
              "      <td>Bachelor</td>\n",
              "      <td>1.288743e+06</td>\n",
              "      <td>48767.0</td>\n",
              "      <td>108.0</td>\n",
              "      <td>1/0/00</td>\n",
              "      <td>Personal Auto</td>\n",
              "      <td>Two-Door Car</td>\n",
              "      <td>566.472247</td>\n",
              "    </tr>\n",
              "    <tr>\n",
              "      <th>3</th>\n",
              "      <td>WW63253</td>\n",
              "      <td>California</td>\n",
              "      <td>M</td>\n",
              "      <td>Bachelor</td>\n",
              "      <td>7.645862e+05</td>\n",
              "      <td>0.0</td>\n",
              "      <td>106.0</td>\n",
              "      <td>1/0/00</td>\n",
              "      <td>Corporate Auto</td>\n",
              "      <td>SUV</td>\n",
              "      <td>529.881344</td>\n",
              "    </tr>\n",
              "    <tr>\n",
              "      <th>4</th>\n",
              "      <td>GA49547</td>\n",
              "      <td>Washington</td>\n",
              "      <td>M</td>\n",
              "      <td>High School or Below</td>\n",
              "      <td>5.363077e+05</td>\n",
              "      <td>36357.0</td>\n",
              "      <td>68.0</td>\n",
              "      <td>1/0/00</td>\n",
              "      <td>Personal Auto</td>\n",
              "      <td>Four-Door Car</td>\n",
              "      <td>17.269323</td>\n",
              "    </tr>\n",
              "    <tr>\n",
              "      <th>...</th>\n",
              "      <td>...</td>\n",
              "      <td>...</td>\n",
              "      <td>...</td>\n",
              "      <td>...</td>\n",
              "      <td>...</td>\n",
              "      <td>...</td>\n",
              "      <td>...</td>\n",
              "      <td>...</td>\n",
              "      <td>...</td>\n",
              "      <td>...</td>\n",
              "      <td>...</td>\n",
              "    </tr>\n",
              "    <tr>\n",
              "      <th>1066</th>\n",
              "      <td>TM65736</td>\n",
              "      <td>Oregon</td>\n",
              "      <td>M</td>\n",
              "      <td>Master</td>\n",
              "      <td>3.059550e+05</td>\n",
              "      <td>38644.0</td>\n",
              "      <td>78.0</td>\n",
              "      <td>1/1/00</td>\n",
              "      <td>Personal Auto</td>\n",
              "      <td>Four-Door Car</td>\n",
              "      <td>361.455219</td>\n",
              "    </tr>\n",
              "    <tr>\n",
              "      <th>1067</th>\n",
              "      <td>VJ51327</td>\n",
              "      <td>California</td>\n",
              "      <td>F</td>\n",
              "      <td>High School or Below</td>\n",
              "      <td>2.031500e+06</td>\n",
              "      <td>63209.0</td>\n",
              "      <td>102.0</td>\n",
              "      <td>1/2/00</td>\n",
              "      <td>Personal Auto</td>\n",
              "      <td>SUV</td>\n",
              "      <td>207.320041</td>\n",
              "    </tr>\n",
              "    <tr>\n",
              "      <th>1068</th>\n",
              "      <td>GS98873</td>\n",
              "      <td>Arizona</td>\n",
              "      <td>F</td>\n",
              "      <td>Bachelor</td>\n",
              "      <td>3.239125e+05</td>\n",
              "      <td>16061.0</td>\n",
              "      <td>88.0</td>\n",
              "      <td>1/0/00</td>\n",
              "      <td>Personal Auto</td>\n",
              "      <td>Four-Door Car</td>\n",
              "      <td>633.600000</td>\n",
              "    </tr>\n",
              "    <tr>\n",
              "      <th>1069</th>\n",
              "      <td>CW49887</td>\n",
              "      <td>California</td>\n",
              "      <td>F</td>\n",
              "      <td>Master</td>\n",
              "      <td>4.626801e+05</td>\n",
              "      <td>79487.0</td>\n",
              "      <td>114.0</td>\n",
              "      <td>1/0/00</td>\n",
              "      <td>Special Auto</td>\n",
              "      <td>SUV</td>\n",
              "      <td>547.200000</td>\n",
              "    </tr>\n",
              "    <tr>\n",
              "      <th>1070</th>\n",
              "      <td>MY31220</td>\n",
              "      <td>California</td>\n",
              "      <td>F</td>\n",
              "      <td>College</td>\n",
              "      <td>8.997040e+05</td>\n",
              "      <td>54230.0</td>\n",
              "      <td>112.0</td>\n",
              "      <td>1/0/00</td>\n",
              "      <td>Personal Auto</td>\n",
              "      <td>Two-Door Car</td>\n",
              "      <td>537.600000</td>\n",
              "    </tr>\n",
              "  </tbody>\n",
              "</table>\n",
              "<p>1071 rows × 11 columns</p>\n",
              "</div>\n",
              "    <div class=\"colab-df-buttons\">\n",
              "\n",
              "  <div class=\"colab-df-container\">\n",
              "    <button class=\"colab-df-convert\" onclick=\"convertToInteractive('df-bc5a1d83-515b-462c-985d-6baef9be363c')\"\n",
              "            title=\"Convert this dataframe to an interactive table.\"\n",
              "            style=\"display:none;\">\n",
              "\n",
              "  <svg xmlns=\"http://www.w3.org/2000/svg\" height=\"24px\" viewBox=\"0 -960 960 960\">\n",
              "    <path d=\"M120-120v-720h720v720H120Zm60-500h600v-160H180v160Zm220 220h160v-160H400v160Zm0 220h160v-160H400v160ZM180-400h160v-160H180v160Zm440 0h160v-160H620v160ZM180-180h160v-160H180v160Zm440 0h160v-160H620v160Z\"/>\n",
              "  </svg>\n",
              "    </button>\n",
              "\n",
              "  <style>\n",
              "    .colab-df-container {\n",
              "      display:flex;\n",
              "      gap: 12px;\n",
              "    }\n",
              "\n",
              "    .colab-df-convert {\n",
              "      background-color: #E8F0FE;\n",
              "      border: none;\n",
              "      border-radius: 50%;\n",
              "      cursor: pointer;\n",
              "      display: none;\n",
              "      fill: #1967D2;\n",
              "      height: 32px;\n",
              "      padding: 0 0 0 0;\n",
              "      width: 32px;\n",
              "    }\n",
              "\n",
              "    .colab-df-convert:hover {\n",
              "      background-color: #E2EBFA;\n",
              "      box-shadow: 0px 1px 2px rgba(60, 64, 67, 0.3), 0px 1px 3px 1px rgba(60, 64, 67, 0.15);\n",
              "      fill: #174EA6;\n",
              "    }\n",
              "\n",
              "    .colab-df-buttons div {\n",
              "      margin-bottom: 4px;\n",
              "    }\n",
              "\n",
              "    [theme=dark] .colab-df-convert {\n",
              "      background-color: #3B4455;\n",
              "      fill: #D2E3FC;\n",
              "    }\n",
              "\n",
              "    [theme=dark] .colab-df-convert:hover {\n",
              "      background-color: #434B5C;\n",
              "      box-shadow: 0px 1px 3px 1px rgba(0, 0, 0, 0.15);\n",
              "      filter: drop-shadow(0px 1px 2px rgba(0, 0, 0, 0.3));\n",
              "      fill: #FFFFFF;\n",
              "    }\n",
              "  </style>\n",
              "\n",
              "    <script>\n",
              "      const buttonEl =\n",
              "        document.querySelector('#df-bc5a1d83-515b-462c-985d-6baef9be363c button.colab-df-convert');\n",
              "      buttonEl.style.display =\n",
              "        google.colab.kernel.accessAllowed ? 'block' : 'none';\n",
              "\n",
              "      async function convertToInteractive(key) {\n",
              "        const element = document.querySelector('#df-bc5a1d83-515b-462c-985d-6baef9be363c');\n",
              "        const dataTable =\n",
              "          await google.colab.kernel.invokeFunction('convertToInteractive',\n",
              "                                                    [key], {});\n",
              "        if (!dataTable) return;\n",
              "\n",
              "        const docLinkHtml = 'Like what you see? Visit the ' +\n",
              "          '<a target=\"_blank\" href=https://colab.research.google.com/notebooks/data_table.ipynb>data table notebook</a>'\n",
              "          + ' to learn more about interactive tables.';\n",
              "        element.innerHTML = '';\n",
              "        dataTable['output_type'] = 'display_data';\n",
              "        await google.colab.output.renderOutput(dataTable, element);\n",
              "        const docLink = document.createElement('div');\n",
              "        docLink.innerHTML = docLinkHtml;\n",
              "        element.appendChild(docLink);\n",
              "      }\n",
              "    </script>\n",
              "  </div>\n",
              "\n",
              "\n",
              "<div id=\"df-60d3fcb0-f7a4-42cd-a679-6eed6bad3e12\">\n",
              "  <button class=\"colab-df-quickchart\" onclick=\"quickchart('df-60d3fcb0-f7a4-42cd-a679-6eed6bad3e12')\"\n",
              "            title=\"Suggest charts.\"\n",
              "            style=\"display:none;\">\n",
              "\n",
              "<svg xmlns=\"http://www.w3.org/2000/svg\" height=\"24px\"viewBox=\"0 0 24 24\"\n",
              "     width=\"24px\">\n",
              "    <g>\n",
              "        <path d=\"M19 3H5c-1.1 0-2 .9-2 2v14c0 1.1.9 2 2 2h14c1.1 0 2-.9 2-2V5c0-1.1-.9-2-2-2zM9 17H7v-7h2v7zm4 0h-2V7h2v10zm4 0h-2v-4h2v4z\"/>\n",
              "    </g>\n",
              "</svg>\n",
              "  </button>\n",
              "\n",
              "<style>\n",
              "  .colab-df-quickchart {\n",
              "      --bg-color: #E8F0FE;\n",
              "      --fill-color: #1967D2;\n",
              "      --hover-bg-color: #E2EBFA;\n",
              "      --hover-fill-color: #174EA6;\n",
              "      --disabled-fill-color: #AAA;\n",
              "      --disabled-bg-color: #DDD;\n",
              "  }\n",
              "\n",
              "  [theme=dark] .colab-df-quickchart {\n",
              "      --bg-color: #3B4455;\n",
              "      --fill-color: #D2E3FC;\n",
              "      --hover-bg-color: #434B5C;\n",
              "      --hover-fill-color: #FFFFFF;\n",
              "      --disabled-bg-color: #3B4455;\n",
              "      --disabled-fill-color: #666;\n",
              "  }\n",
              "\n",
              "  .colab-df-quickchart {\n",
              "    background-color: var(--bg-color);\n",
              "    border: none;\n",
              "    border-radius: 50%;\n",
              "    cursor: pointer;\n",
              "    display: none;\n",
              "    fill: var(--fill-color);\n",
              "    height: 32px;\n",
              "    padding: 0;\n",
              "    width: 32px;\n",
              "  }\n",
              "\n",
              "  .colab-df-quickchart:hover {\n",
              "    background-color: var(--hover-bg-color);\n",
              "    box-shadow: 0 1px 2px rgba(60, 64, 67, 0.3), 0 1px 3px 1px rgba(60, 64, 67, 0.15);\n",
              "    fill: var(--button-hover-fill-color);\n",
              "  }\n",
              "\n",
              "  .colab-df-quickchart-complete:disabled,\n",
              "  .colab-df-quickchart-complete:disabled:hover {\n",
              "    background-color: var(--disabled-bg-color);\n",
              "    fill: var(--disabled-fill-color);\n",
              "    box-shadow: none;\n",
              "  }\n",
              "\n",
              "  .colab-df-spinner {\n",
              "    border: 2px solid var(--fill-color);\n",
              "    border-color: transparent;\n",
              "    border-bottom-color: var(--fill-color);\n",
              "    animation:\n",
              "      spin 1s steps(1) infinite;\n",
              "  }\n",
              "\n",
              "  @keyframes spin {\n",
              "    0% {\n",
              "      border-color: transparent;\n",
              "      border-bottom-color: var(--fill-color);\n",
              "      border-left-color: var(--fill-color);\n",
              "    }\n",
              "    20% {\n",
              "      border-color: transparent;\n",
              "      border-left-color: var(--fill-color);\n",
              "      border-top-color: var(--fill-color);\n",
              "    }\n",
              "    30% {\n",
              "      border-color: transparent;\n",
              "      border-left-color: var(--fill-color);\n",
              "      border-top-color: var(--fill-color);\n",
              "      border-right-color: var(--fill-color);\n",
              "    }\n",
              "    40% {\n",
              "      border-color: transparent;\n",
              "      border-right-color: var(--fill-color);\n",
              "      border-top-color: var(--fill-color);\n",
              "    }\n",
              "    60% {\n",
              "      border-color: transparent;\n",
              "      border-right-color: var(--fill-color);\n",
              "    }\n",
              "    80% {\n",
              "      border-color: transparent;\n",
              "      border-right-color: var(--fill-color);\n",
              "      border-bottom-color: var(--fill-color);\n",
              "    }\n",
              "    90% {\n",
              "      border-color: transparent;\n",
              "      border-bottom-color: var(--fill-color);\n",
              "    }\n",
              "  }\n",
              "</style>\n",
              "\n",
              "  <script>\n",
              "    async function quickchart(key) {\n",
              "      const quickchartButtonEl =\n",
              "        document.querySelector('#' + key + ' button');\n",
              "      quickchartButtonEl.disabled = true;  // To prevent multiple clicks.\n",
              "      quickchartButtonEl.classList.add('colab-df-spinner');\n",
              "      try {\n",
              "        const charts = await google.colab.kernel.invokeFunction(\n",
              "            'suggestCharts', [key], {});\n",
              "      } catch (error) {\n",
              "        console.error('Error during call to suggestCharts:', error);\n",
              "      }\n",
              "      quickchartButtonEl.classList.remove('colab-df-spinner');\n",
              "      quickchartButtonEl.classList.add('colab-df-quickchart-complete');\n",
              "    }\n",
              "    (() => {\n",
              "      let quickchartButtonEl =\n",
              "        document.querySelector('#df-60d3fcb0-f7a4-42cd-a679-6eed6bad3e12 button');\n",
              "      quickchartButtonEl.style.display =\n",
              "        google.colab.kernel.accessAllowed ? 'block' : 'none';\n",
              "    })();\n",
              "  </script>\n",
              "</div>\n",
              "    </div>\n",
              "  </div>\n"
            ]
          },
          "metadata": {},
          "execution_count": 4
        }
      ],
      "source": [
        "# Going for the Option 1, using data that is already clean\n",
        "import pandas as pd\n",
        "\n",
        "#using my file from previous lab:\n",
        "\n",
        "df = pd.read_csv(\"/content/cleaned_data_lab_02.csv\")\n",
        "df"
      ]
    },
    {
      "cell_type": "code",
      "source": [
        "url = 'https://raw.githubusercontent.com/data-bootcamp-v4/data/main/file2_clean.csv'\n",
        "\n",
        "df1 = pd.read_csv(url)\n",
        "df1.head(3)"
      ],
      "metadata": {
        "id": "Rc88rWPgyG1F"
      },
      "id": "Rc88rWPgyG1F",
      "execution_count": null,
      "outputs": []
    },
    {
      "cell_type": "code",
      "source": [
        "url = 'https://raw.githubusercontent.com/data-bootcamp-v4/data/main/file3_clean.csv'\n",
        "\n",
        "df2 = pd.read_csv(url)\n",
        "df2.head(3)"
      ],
      "metadata": {
        "id": "D2BWtH2IyGyt",
        "colab": {
          "base_uri": "https://localhost:8080/",
          "height": 143
        },
        "outputId": "3c83c1af-0980-45fb-bc46-b7d288dc743c"
      },
      "id": "D2BWtH2IyGyt",
      "execution_count": null,
      "outputs": [
        {
          "output_type": "execute_result",
          "data": {
            "text/plain": [
              "  Customer          ST GENDER Education Customer Lifetime Value   Income  \\\n",
              "0  RB50392  Washington    NaN    Master                     NaN      0.0   \n",
              "1  QZ44356     Arizona      F  Bachelor              697953.59%      0.0   \n",
              "2  AI49188      Nevada      F  Bachelor             1288743.17%  48767.0   \n",
              "\n",
              "   Monthly Premium Auto Number of Open Complaints    Policy Type  \\\n",
              "0                1000.0                    1/0/00  Personal Auto   \n",
              "1                  94.0                    1/0/00  Personal Auto   \n",
              "2                 108.0                    1/0/00  Personal Auto   \n",
              "\n",
              "   Vehicle Class  Total Claim Amount  \n",
              "0  Four-Door Car            2.704934  \n",
              "1  Four-Door Car         1131.464935  \n",
              "2   Two-Door Car          566.472247  "
            ],
            "text/html": [
              "\n",
              "  <div id=\"df-4680eb35-a7c4-4270-843a-e776075d28bc\" class=\"colab-df-container\">\n",
              "    <div>\n",
              "<style scoped>\n",
              "    .dataframe tbody tr th:only-of-type {\n",
              "        vertical-align: middle;\n",
              "    }\n",
              "\n",
              "    .dataframe tbody tr th {\n",
              "        vertical-align: top;\n",
              "    }\n",
              "\n",
              "    .dataframe thead th {\n",
              "        text-align: right;\n",
              "    }\n",
              "</style>\n",
              "<table border=\"1\" class=\"dataframe\">\n",
              "  <thead>\n",
              "    <tr style=\"text-align: right;\">\n",
              "      <th></th>\n",
              "      <th>Customer</th>\n",
              "      <th>ST</th>\n",
              "      <th>GENDER</th>\n",
              "      <th>Education</th>\n",
              "      <th>Customer Lifetime Value</th>\n",
              "      <th>Income</th>\n",
              "      <th>Monthly Premium Auto</th>\n",
              "      <th>Number of Open Complaints</th>\n",
              "      <th>Policy Type</th>\n",
              "      <th>Vehicle Class</th>\n",
              "      <th>Total Claim Amount</th>\n",
              "    </tr>\n",
              "  </thead>\n",
              "  <tbody>\n",
              "    <tr>\n",
              "      <th>0</th>\n",
              "      <td>RB50392</td>\n",
              "      <td>Washington</td>\n",
              "      <td>NaN</td>\n",
              "      <td>Master</td>\n",
              "      <td>NaN</td>\n",
              "      <td>0.0</td>\n",
              "      <td>1000.0</td>\n",
              "      <td>1/0/00</td>\n",
              "      <td>Personal Auto</td>\n",
              "      <td>Four-Door Car</td>\n",
              "      <td>2.704934</td>\n",
              "    </tr>\n",
              "    <tr>\n",
              "      <th>1</th>\n",
              "      <td>QZ44356</td>\n",
              "      <td>Arizona</td>\n",
              "      <td>F</td>\n",
              "      <td>Bachelor</td>\n",
              "      <td>697953.59%</td>\n",
              "      <td>0.0</td>\n",
              "      <td>94.0</td>\n",
              "      <td>1/0/00</td>\n",
              "      <td>Personal Auto</td>\n",
              "      <td>Four-Door Car</td>\n",
              "      <td>1131.464935</td>\n",
              "    </tr>\n",
              "    <tr>\n",
              "      <th>2</th>\n",
              "      <td>AI49188</td>\n",
              "      <td>Nevada</td>\n",
              "      <td>F</td>\n",
              "      <td>Bachelor</td>\n",
              "      <td>1288743.17%</td>\n",
              "      <td>48767.0</td>\n",
              "      <td>108.0</td>\n",
              "      <td>1/0/00</td>\n",
              "      <td>Personal Auto</td>\n",
              "      <td>Two-Door Car</td>\n",
              "      <td>566.472247</td>\n",
              "    </tr>\n",
              "  </tbody>\n",
              "</table>\n",
              "</div>\n",
              "    <div class=\"colab-df-buttons\">\n",
              "\n",
              "  <div class=\"colab-df-container\">\n",
              "    <button class=\"colab-df-convert\" onclick=\"convertToInteractive('df-4680eb35-a7c4-4270-843a-e776075d28bc')\"\n",
              "            title=\"Convert this dataframe to an interactive table.\"\n",
              "            style=\"display:none;\">\n",
              "\n",
              "  <svg xmlns=\"http://www.w3.org/2000/svg\" height=\"24px\" viewBox=\"0 -960 960 960\">\n",
              "    <path d=\"M120-120v-720h720v720H120Zm60-500h600v-160H180v160Zm220 220h160v-160H400v160Zm0 220h160v-160H400v160ZM180-400h160v-160H180v160Zm440 0h160v-160H620v160ZM180-180h160v-160H180v160Zm440 0h160v-160H620v160Z\"/>\n",
              "  </svg>\n",
              "    </button>\n",
              "\n",
              "  <style>\n",
              "    .colab-df-container {\n",
              "      display:flex;\n",
              "      gap: 12px;\n",
              "    }\n",
              "\n",
              "    .colab-df-convert {\n",
              "      background-color: #E8F0FE;\n",
              "      border: none;\n",
              "      border-radius: 50%;\n",
              "      cursor: pointer;\n",
              "      display: none;\n",
              "      fill: #1967D2;\n",
              "      height: 32px;\n",
              "      padding: 0 0 0 0;\n",
              "      width: 32px;\n",
              "    }\n",
              "\n",
              "    .colab-df-convert:hover {\n",
              "      background-color: #E2EBFA;\n",
              "      box-shadow: 0px 1px 2px rgba(60, 64, 67, 0.3), 0px 1px 3px 1px rgba(60, 64, 67, 0.15);\n",
              "      fill: #174EA6;\n",
              "    }\n",
              "\n",
              "    .colab-df-buttons div {\n",
              "      margin-bottom: 4px;\n",
              "    }\n",
              "\n",
              "    [theme=dark] .colab-df-convert {\n",
              "      background-color: #3B4455;\n",
              "      fill: #D2E3FC;\n",
              "    }\n",
              "\n",
              "    [theme=dark] .colab-df-convert:hover {\n",
              "      background-color: #434B5C;\n",
              "      box-shadow: 0px 1px 3px 1px rgba(0, 0, 0, 0.15);\n",
              "      filter: drop-shadow(0px 1px 2px rgba(0, 0, 0, 0.3));\n",
              "      fill: #FFFFFF;\n",
              "    }\n",
              "  </style>\n",
              "\n",
              "    <script>\n",
              "      const buttonEl =\n",
              "        document.querySelector('#df-4680eb35-a7c4-4270-843a-e776075d28bc button.colab-df-convert');\n",
              "      buttonEl.style.display =\n",
              "        google.colab.kernel.accessAllowed ? 'block' : 'none';\n",
              "\n",
              "      async function convertToInteractive(key) {\n",
              "        const element = document.querySelector('#df-4680eb35-a7c4-4270-843a-e776075d28bc');\n",
              "        const dataTable =\n",
              "          await google.colab.kernel.invokeFunction('convertToInteractive',\n",
              "                                                    [key], {});\n",
              "        if (!dataTable) return;\n",
              "\n",
              "        const docLinkHtml = 'Like what you see? Visit the ' +\n",
              "          '<a target=\"_blank\" href=https://colab.research.google.com/notebooks/data_table.ipynb>data table notebook</a>'\n",
              "          + ' to learn more about interactive tables.';\n",
              "        element.innerHTML = '';\n",
              "        dataTable['output_type'] = 'display_data';\n",
              "        await google.colab.output.renderOutput(dataTable, element);\n",
              "        const docLink = document.createElement('div');\n",
              "        docLink.innerHTML = docLinkHtml;\n",
              "        element.appendChild(docLink);\n",
              "      }\n",
              "    </script>\n",
              "  </div>\n",
              "\n",
              "\n",
              "<div id=\"df-e58318f6-3a94-4642-b56c-81513ed0c334\">\n",
              "  <button class=\"colab-df-quickchart\" onclick=\"quickchart('df-e58318f6-3a94-4642-b56c-81513ed0c334')\"\n",
              "            title=\"Suggest charts.\"\n",
              "            style=\"display:none;\">\n",
              "\n",
              "<svg xmlns=\"http://www.w3.org/2000/svg\" height=\"24px\"viewBox=\"0 0 24 24\"\n",
              "     width=\"24px\">\n",
              "    <g>\n",
              "        <path d=\"M19 3H5c-1.1 0-2 .9-2 2v14c0 1.1.9 2 2 2h14c1.1 0 2-.9 2-2V5c0-1.1-.9-2-2-2zM9 17H7v-7h2v7zm4 0h-2V7h2v10zm4 0h-2v-4h2v4z\"/>\n",
              "    </g>\n",
              "</svg>\n",
              "  </button>\n",
              "\n",
              "<style>\n",
              "  .colab-df-quickchart {\n",
              "      --bg-color: #E8F0FE;\n",
              "      --fill-color: #1967D2;\n",
              "      --hover-bg-color: #E2EBFA;\n",
              "      --hover-fill-color: #174EA6;\n",
              "      --disabled-fill-color: #AAA;\n",
              "      --disabled-bg-color: #DDD;\n",
              "  }\n",
              "\n",
              "  [theme=dark] .colab-df-quickchart {\n",
              "      --bg-color: #3B4455;\n",
              "      --fill-color: #D2E3FC;\n",
              "      --hover-bg-color: #434B5C;\n",
              "      --hover-fill-color: #FFFFFF;\n",
              "      --disabled-bg-color: #3B4455;\n",
              "      --disabled-fill-color: #666;\n",
              "  }\n",
              "\n",
              "  .colab-df-quickchart {\n",
              "    background-color: var(--bg-color);\n",
              "    border: none;\n",
              "    border-radius: 50%;\n",
              "    cursor: pointer;\n",
              "    display: none;\n",
              "    fill: var(--fill-color);\n",
              "    height: 32px;\n",
              "    padding: 0;\n",
              "    width: 32px;\n",
              "  }\n",
              "\n",
              "  .colab-df-quickchart:hover {\n",
              "    background-color: var(--hover-bg-color);\n",
              "    box-shadow: 0 1px 2px rgba(60, 64, 67, 0.3), 0 1px 3px 1px rgba(60, 64, 67, 0.15);\n",
              "    fill: var(--button-hover-fill-color);\n",
              "  }\n",
              "\n",
              "  .colab-df-quickchart-complete:disabled,\n",
              "  .colab-df-quickchart-complete:disabled:hover {\n",
              "    background-color: var(--disabled-bg-color);\n",
              "    fill: var(--disabled-fill-color);\n",
              "    box-shadow: none;\n",
              "  }\n",
              "\n",
              "  .colab-df-spinner {\n",
              "    border: 2px solid var(--fill-color);\n",
              "    border-color: transparent;\n",
              "    border-bottom-color: var(--fill-color);\n",
              "    animation:\n",
              "      spin 1s steps(1) infinite;\n",
              "  }\n",
              "\n",
              "  @keyframes spin {\n",
              "    0% {\n",
              "      border-color: transparent;\n",
              "      border-bottom-color: var(--fill-color);\n",
              "      border-left-color: var(--fill-color);\n",
              "    }\n",
              "    20% {\n",
              "      border-color: transparent;\n",
              "      border-left-color: var(--fill-color);\n",
              "      border-top-color: var(--fill-color);\n",
              "    }\n",
              "    30% {\n",
              "      border-color: transparent;\n",
              "      border-left-color: var(--fill-color);\n",
              "      border-top-color: var(--fill-color);\n",
              "      border-right-color: var(--fill-color);\n",
              "    }\n",
              "    40% {\n",
              "      border-color: transparent;\n",
              "      border-right-color: var(--fill-color);\n",
              "      border-top-color: var(--fill-color);\n",
              "    }\n",
              "    60% {\n",
              "      border-color: transparent;\n",
              "      border-right-color: var(--fill-color);\n",
              "    }\n",
              "    80% {\n",
              "      border-color: transparent;\n",
              "      border-right-color: var(--fill-color);\n",
              "      border-bottom-color: var(--fill-color);\n",
              "    }\n",
              "    90% {\n",
              "      border-color: transparent;\n",
              "      border-bottom-color: var(--fill-color);\n",
              "    }\n",
              "  }\n",
              "</style>\n",
              "\n",
              "  <script>\n",
              "    async function quickchart(key) {\n",
              "      const quickchartButtonEl =\n",
              "        document.querySelector('#' + key + ' button');\n",
              "      quickchartButtonEl.disabled = true;  // To prevent multiple clicks.\n",
              "      quickchartButtonEl.classList.add('colab-df-spinner');\n",
              "      try {\n",
              "        const charts = await google.colab.kernel.invokeFunction(\n",
              "            'suggestCharts', [key], {});\n",
              "      } catch (error) {\n",
              "        console.error('Error during call to suggestCharts:', error);\n",
              "      }\n",
              "      quickchartButtonEl.classList.remove('colab-df-spinner');\n",
              "      quickchartButtonEl.classList.add('colab-df-quickchart-complete');\n",
              "    }\n",
              "    (() => {\n",
              "      let quickchartButtonEl =\n",
              "        document.querySelector('#df-e58318f6-3a94-4642-b56c-81513ed0c334 button');\n",
              "      quickchartButtonEl.style.display =\n",
              "        google.colab.kernel.accessAllowed ? 'block' : 'none';\n",
              "    })();\n",
              "  </script>\n",
              "</div>\n",
              "    </div>\n",
              "  </div>\n"
            ]
          },
          "metadata": {},
          "execution_count": 64
        }
      ]
    },
    {
      "cell_type": "code",
      "source": [
        "# Let's clean the house! \"customer_data\", here we goooooooooooooooooooooo!\n",
        "# My approach, I rather clean df1 and df2 as df, the one I cleaned previously.\n",
        "df.columns"
      ],
      "metadata": {
        "id": "t2YqTipkyGwV",
        "colab": {
          "base_uri": "https://localhost:8080/"
        },
        "outputId": "f882225c-702b-4bf8-d3fc-bb14c352a11a"
      },
      "id": "t2YqTipkyGwV",
      "execution_count": null,
      "outputs": [
        {
          "output_type": "execute_result",
          "data": {
            "text/plain": [
              "Index(['customer', 'state', 'gender', 'education', 'customer_lifetime_value',\n",
              "       'income', 'monthly_premium_auto', 'number_of_open_complaints',\n",
              "       'policy_type', 'vehicle_class', 'total_claim_amount'],\n",
              "      dtype='object')"
            ]
          },
          "metadata": {},
          "execution_count": 65
        }
      ]
    },
    {
      "cell_type": "code",
      "source": [
        "df1.rename(columns= {'ST': 'state'}, inplace=True)\n",
        "df1.columns"
      ],
      "metadata": {
        "colab": {
          "base_uri": "https://localhost:8080/"
        },
        "id": "MI-6-ovdfZoA",
        "outputId": "95182634-d1da-4ca6-aa00-638f4720090a"
      },
      "id": "MI-6-ovdfZoA",
      "execution_count": null,
      "outputs": [
        {
          "output_type": "execute_result",
          "data": {
            "text/plain": [
              "Index(['Customer', 'state', 'GENDER', 'Education', 'Customer Lifetime Value',\n",
              "       'Income', 'Monthly Premium Auto', 'Number of Open Complaints',\n",
              "       'Policy Type', 'Vehicle Class', 'Total Claim Amount'],\n",
              "      dtype='object')"
            ]
          },
          "metadata": {},
          "execution_count": 66
        }
      ]
    },
    {
      "cell_type": "code",
      "source": [
        "# naming columns both for df1 and df2\n",
        "new_columns1 = []\n",
        "for name in df1.columns:\n",
        "    name = name.lower().replace(' ', '_')\n",
        "    new_columns1.append(name)\n",
        "\n",
        "# Assign the updated column names to the DataFrame\n",
        "df1.columns = (new_columns1)\n",
        "df1.columns"
      ],
      "metadata": {
        "colab": {
          "base_uri": "https://localhost:8080/"
        },
        "id": "iHWu-n1ifZl6",
        "outputId": "3b31aa0f-7a63-4845-bb4b-712f07d9391b"
      },
      "id": "iHWu-n1ifZl6",
      "execution_count": null,
      "outputs": [
        {
          "output_type": "execute_result",
          "data": {
            "text/plain": [
              "Index(['customer', 'state', 'gender', 'education', 'customer_lifetime_value',\n",
              "       'income', 'monthly_premium_auto', 'number_of_open_complaints',\n",
              "       'policy_type', 'vehicle_class', 'total_claim_amount'],\n",
              "      dtype='object')"
            ]
          },
          "metadata": {},
          "execution_count": 67
        }
      ]
    },
    {
      "cell_type": "code",
      "source": [
        "df2.rename(columns= {'st': 'state'}, inplace=True)\n",
        "df2.columns\n",
        "\n",
        "new_columns2 = []\n",
        "for name in df2.columns:\n",
        "    name = name.lower().replace(' ', '_')\n",
        "    new_columns2.append(name)\n",
        "\n",
        "# Assign the updated column names to the DataFrame\n",
        "df2.columns = (new_columns2)\n",
        "df2.columns"
      ],
      "metadata": {
        "colab": {
          "base_uri": "https://localhost:8080/"
        },
        "id": "xM-Z46AafZjX",
        "outputId": "7bdd4dc1-f460-4849-aa5a-e460c21973d8"
      },
      "id": "xM-Z46AafZjX",
      "execution_count": null,
      "outputs": [
        {
          "output_type": "execute_result",
          "data": {
            "text/plain": [
              "Index(['customer', 'state', 'gender', 'education', 'customer_lifetime_value',\n",
              "       'income', 'monthly_premium_auto', 'number_of_open_complaints',\n",
              "       'policy_type', 'vehicle_class', 'total_claim_amount'],\n",
              "      dtype='object')"
            ]
          },
          "metadata": {},
          "execution_count": 70
        }
      ]
    },
    {
      "cell_type": "code",
      "source": [
        "print(\"Naming columns - done \\n\")\n",
        "print(df.columns)\n",
        "print(df1.columns)\n",
        "print(df2.columns)"
      ],
      "metadata": {
        "id": "nxRqVzVMfZhZ"
      },
      "id": "nxRqVzVMfZhZ",
      "execution_count": null,
      "outputs": []
    },
    {
      "cell_type": "code",
      "source": [
        "print(\"Going to use df.shape as a reference \\n\")\n",
        "print(\"df.shape:\", df.shape)\n",
        "print(\"df1.shape:\", df1.shape)\n",
        "print(\"df2.shape:\", df2.shape)"
      ],
      "metadata": {
        "id": "DqxWsjRpfZe8"
      },
      "id": "DqxWsjRpfZe8",
      "execution_count": null,
      "outputs": []
    },
    {
      "cell_type": "code",
      "source": [
        "# My approach, now the 'gender' column\n",
        "df[\"gender\"].unique()"
      ],
      "metadata": {
        "colab": {
          "base_uri": "https://localhost:8080/"
        },
        "id": "GhVm6jx-hyzg",
        "outputId": "4a86d2b7-600f-4073-e1d3-db1dbb7312ad"
      },
      "id": "GhVm6jx-hyzg",
      "execution_count": null,
      "outputs": [
        {
          "output_type": "execute_result",
          "data": {
            "text/plain": [
              "array(['other', 'F', 'M'], dtype=object)"
            ]
          },
          "metadata": {},
          "execution_count": 73
        }
      ]
    },
    {
      "cell_type": "code",
      "source": [
        "print(df1[\"gender\"].unique())"
      ],
      "metadata": {
        "colab": {
          "base_uri": "https://localhost:8080/"
        },
        "id": "ml0Bu83ejOQv",
        "outputId": "87281210-b1f0-4dea-95ab-f235ec5c92c6"
      },
      "id": "ml0Bu83ejOQv",
      "execution_count": null,
      "outputs": [
        {
          "output_type": "stream",
          "name": "stdout",
          "text": [
            "[nan 'F' 'M' 'Femal' 'Male' 'female']\n"
          ]
        }
      ]
    },
    {
      "cell_type": "code",
      "source": [
        "df1['gender'] = df1['gender'].replace(['female', 'Femal'], 'F', regex=True)\n",
        "df1['gender'] = df1['gender'].replace(['Male'], 'M', regex=True)\n",
        "print(\"df1 'gender' standardized:\")\n",
        "df1[\"gender\"].value_counts()"
      ],
      "metadata": {
        "colab": {
          "base_uri": "https://localhost:8080/"
        },
        "id": "bHKqgb04hyxj",
        "outputId": "3f4c4119-1cc0-4cf1-c71a-7d698fb8f43d"
      },
      "id": "bHKqgb04hyxj",
      "execution_count": null,
      "outputs": [
        {
          "output_type": "stream",
          "name": "stdout",
          "text": [
            "df1 'gender' standardized:\n"
          ]
        },
        {
          "output_type": "execute_result",
          "data": {
            "text/plain": [
              "F    4607\n",
              "M    4408\n",
              "Name: gender, dtype: int64"
            ]
          },
          "metadata": {},
          "execution_count": 149
        }
      ]
    },
    {
      "cell_type": "code",
      "source": [
        "df2['gender'] = df2['gender'].replace(['female', 'Femal'], 'F', regex=True)\n",
        "df2['gender'] = df2['gender'].replace(['Male'], 'M', regex=True)\n",
        "print(\"df2 'gender' standardized:\")\n",
        "df2[\"gender\"].value_counts()"
      ],
      "metadata": {
        "colab": {
          "base_uri": "https://localhost:8080/"
        },
        "id": "5w1ZlNnThytA",
        "outputId": "febac5c0-a3cb-4fc1-f0ba-a946ce3b86c7"
      },
      "id": "5w1ZlNnThytA",
      "execution_count": null,
      "outputs": [
        {
          "output_type": "stream",
          "name": "stdout",
          "text": [
            "df2 'gender' standardized:\n"
          ]
        },
        {
          "output_type": "execute_result",
          "data": {
            "text/plain": [
              "F    4607\n",
              "M    4408\n",
              "Name: gender, dtype: int64"
            ]
          },
          "metadata": {},
          "execution_count": 140
        }
      ]
    },
    {
      "cell_type": "code",
      "source": [
        "# My approach, now the 'state' column, using df as a reference\n",
        "df[\"state\"].value_counts()"
      ],
      "metadata": {
        "id": "UKX-WVX7hyq1"
      },
      "id": "UKX-WVX7hyq1",
      "execution_count": null,
      "outputs": []
    },
    {
      "cell_type": "code",
      "source": [
        "state1_name = {\"AZ\": \"Arizona\",\n",
        "              \"Cali\": \"California\",\n",
        "              \"WA\": \"Washington\" }\n",
        "\n",
        "df1['state'].replace(state1_name, inplace=True)\n",
        "print(\"States on df1 - full name replaced:\")\n",
        "df1[\"state\"].value_counts()"
      ],
      "metadata": {
        "id": "Xu48BjHuj29n"
      },
      "id": "Xu48BjHuj29n",
      "execution_count": null,
      "outputs": []
    },
    {
      "cell_type": "code",
      "source": [
        "state2_name = {\"AZ\": \"Arizona\",\n",
        "              \"Cali\": \"California\",\n",
        "              \"WA\": \"Washington\" }\n",
        "\n",
        "df2['state'].replace(state2_name, inplace=True)\n",
        "print(\"States on df2 - full name replaced:\")\n",
        "df2[\"state\"].value_counts()"
      ],
      "metadata": {
        "id": "MazU2sMwj27V"
      },
      "id": "MazU2sMwj27V",
      "execution_count": null,
      "outputs": []
    },
    {
      "cell_type": "code",
      "source": [
        "# My approach, now the 'education' column, using df as a reference\n",
        "df[\"education\"].value_counts()"
      ],
      "metadata": {
        "id": "OGfxcyjOj24t"
      },
      "id": "OGfxcyjOj24t",
      "execution_count": null,
      "outputs": []
    },
    {
      "cell_type": "code",
      "source": [
        "education1_name = {\"Bachelors\":\"Bachelor\"}\n",
        "df1['education'].replace(education1_name, inplace=True)\n",
        "print(\"Bachelor's degree in df1 now corrected:\")\n",
        "df1[\"education\"].value_counts()"
      ],
      "metadata": {
        "id": "rAEeljY4lNEE"
      },
      "id": "rAEeljY4lNEE",
      "execution_count": null,
      "outputs": []
    },
    {
      "cell_type": "code",
      "source": [
        "education2_name = {\"Bachelors\":\"Bachelor\"}\n",
        "df2['education'].replace(education2_name, inplace=True)\n",
        "print(\"Bachelor's degree in df2 now corrected:\")\n",
        "df2[\"education\"].value_counts()"
      ],
      "metadata": {
        "id": "o8hMjC51lNBW"
      },
      "id": "o8hMjC51lNBW",
      "execution_count": null,
      "outputs": []
    },
    {
      "cell_type": "code",
      "source": [
        "# My approach on the replace method for % to turn into nothing()\n",
        "df[\"customer_lifetime_value\"]"
      ],
      "metadata": {
        "id": "FFkfXuyfmAkT"
      },
      "id": "FFkfXuyfmAkT",
      "execution_count": null,
      "outputs": []
    },
    {
      "cell_type": "code",
      "source": [
        "df1[\"customer_lifetime_value\"] = df1[\"customer_lifetime_value\"].str.replace(\"%\", \"\")\n",
        "df2[\"customer_lifetime_value\"] = df2[\"customer_lifetime_value\"].str.replace(\"%\", \"\")"
      ],
      "metadata": {
        "id": "N2wgqKfClM-_"
      },
      "id": "N2wgqKfClM-_",
      "execution_count": null,
      "outputs": []
    },
    {
      "cell_type": "code",
      "source": [
        "# In vehicle class, \"Sports Car\", \"Luxury SUV\" and \"Luxury Car\" will be replaced by \"Luxury\", just like on df\n",
        "\n",
        "car1_name = {\"Sports Car\": \"Luxury\",\n",
        "            \"Luxury SUV\": \"Luxury\",\n",
        "            \"Luxury Car\": \"Luxury\"}\n",
        "\n",
        "df1[\"vehicle_class\"].replace(car1_name, inplace=True)"
      ],
      "metadata": {
        "id": "6GuIOX6YlM82"
      },
      "id": "6GuIOX6YlM82",
      "execution_count": null,
      "outputs": []
    },
    {
      "cell_type": "code",
      "source": [
        "car2_name = {\"Sports Car\": \"Luxury\",\n",
        "            \"Luxury SUV\": \"Luxury\",\n",
        "            \"Luxury Car\": \"Luxury\"}\n",
        "\n",
        "df2[\"vehicle_class\"].replace(car2_name, inplace=True)"
      ],
      "metadata": {
        "id": "7oZqkg3ym0ry"
      },
      "id": "7oZqkg3ym0ry",
      "execution_count": null,
      "outputs": []
    },
    {
      "cell_type": "code",
      "source": [
        "print(\"Car class on df1 is updated:\")\n",
        "print(df1[\"vehicle_class\"].value_counts())\n",
        "print(\"\\nCar class on df2 is updated:\")\n",
        "print(df2[\"vehicle_class\"].value_counts())"
      ],
      "metadata": {
        "id": "Q4x2ZuSrlM6t"
      },
      "id": "Q4x2ZuSrlM6t",
      "execution_count": null,
      "outputs": []
    },
    {
      "cell_type": "code",
      "source": [
        "#### Sad trombone for the number of complaints"
      ],
      "metadata": {
        "id": "W7Sv1WdalM4-"
      },
      "id": "W7Sv1WdalM4-",
      "execution_count": null,
      "outputs": []
    },
    {
      "cell_type": "code",
      "source": [
        "### Dealing with the null values\n",
        "\n",
        "df1.dropna(subset = [\"customer\"], inplace=True)\n",
        "df2.dropna(subset = [\"customer\"], inplace=True)\n",
        "\n",
        "print(f\"The current shape of our dataframe is {df.shape}\")\n",
        "print(f\"The current shape of our dataframe is {df1.shape}\")\n",
        "print(f\"The current shape of our dataframe is {df2.shape}\")"
      ],
      "metadata": {
        "id": "8zpyr8qalMz1"
      },
      "id": "8zpyr8qalMz1",
      "execution_count": null,
      "outputs": []
    },
    {
      "cell_type": "code",
      "source": [
        "x = 9137 - 1071\n",
        "x\n",
        "print(\"hmmm\", x,\"rows! That's a lot of data!!\")\n",
        "print(\"Let's look at a trailler...\")"
      ],
      "metadata": {
        "colab": {
          "base_uri": "https://localhost:8080/"
        },
        "id": "_-9pFmGDhyo2",
        "outputId": "a8e98297-ee9d-4135-bc66-857a4de63686"
      },
      "id": "_-9pFmGDhyo2",
      "execution_count": null,
      "outputs": [
        {
          "output_type": "stream",
          "name": "stdout",
          "text": [
            "hmmm 8066 rows! That's a lot of data!!\n",
            "Let's look at a trailler...\n"
          ]
        }
      ]
    },
    {
      "cell_type": "code",
      "source": [
        "df1.isnull().any()\n",
        "df1[\"gender\"].isnull().sum()"
      ],
      "metadata": {
        "id": "GCFay_Jfpdar"
      },
      "id": "GCFay_Jfpdar",
      "execution_count": null,
      "outputs": []
    },
    {
      "cell_type": "code",
      "source": [
        "df2.isnull().any()\n",
        "df2[\"gender\"].isnull().sum()"
      ],
      "metadata": {
        "id": "KUmMrHJ_3Z7v"
      },
      "id": "KUmMrHJ_3Z7v",
      "execution_count": null,
      "outputs": []
    },
    {
      "cell_type": "code",
      "source": [
        "# Taking null from 'gender' on df1 and df2\n",
        "\n",
        "df1[\"gender\"].fillna(\"other\", inplace=True)\n",
        "df2[\"gender\"].fillna(\"other\", inplace=True)\n",
        "\n",
        "print(\"'Gender' column in df1 updated\")\n",
        "print(df1[\"gender\"].value_counts())\n",
        "print(\"\\n'Gender' column in df2 updated\")\n",
        "print(df2[\"gender\"].value_counts())"
      ],
      "metadata": {
        "id": "HP1yttoO3fGt"
      },
      "id": "HP1yttoO3fGt",
      "execution_count": null,
      "outputs": []
    },
    {
      "cell_type": "code",
      "source": [
        "# let's turn this babies into numeric, so i can assign the mean to the null values\n",
        "df1[\"customer_lifetime_value\"] = pd.to_numeric(df1[\"customer_lifetime_value\"], errors=\"coerce\") # Google in da house\n",
        "df2[\"customer_lifetime_value\"] = pd.to_numeric(df2[\"customer_lifetime_value\"], errors=\"coerce\") # Google in da house"
      ],
      "metadata": {
        "id": "7XYo4E-d4zgf"
      },
      "id": "7XYo4E-d4zgf",
      "execution_count": null,
      "outputs": []
    },
    {
      "cell_type": "code",
      "source": [
        "# Taking null from '\"customer_lifetime_value\"' on df1 and df2\n",
        "clv1_mean = (df1[\"customer_lifetime_value\"].mean())\n",
        "print(\"Mean is\", (clv1_mean))\n",
        "\n",
        "clv2_mean = (df2[\"customer_lifetime_value\"].mean())\n",
        "print(\"Mean is\", (clv2_mean))"
      ],
      "metadata": {
        "id": "KZyvwvJ93fEO"
      },
      "id": "KZyvwvJ93fEO",
      "execution_count": null,
      "outputs": []
    },
    {
      "cell_type": "code",
      "source": [
        "df1[\"customer_lifetime_value\"].fillna(clv1_mean, inplace=True)\n",
        "print(df1.isnull().sum(),\"\\n\" )\n",
        "\n",
        "df2[\"customer_lifetime_value\"].fillna(clv2_mean, inplace=True)\n",
        "print(df2.isnull().sum())\n"
      ],
      "metadata": {
        "id": "VHOfCKzO4ze3"
      },
      "id": "VHOfCKzO4ze3",
      "execution_count": null,
      "outputs": []
    },
    {
      "cell_type": "code",
      "source": [
        "#### NO nulls !!! YEAH...so, let's check for duplicates!!!!"
      ],
      "metadata": {
        "id": "cYhxcpUm4zcP"
      },
      "id": "cYhxcpUm4zcP",
      "execution_count": null,
      "outputs": []
    },
    {
      "cell_type": "code",
      "source": [
        "#Dropping all duplicate rows\n",
        "df1.drop_duplicates(inplace=True)\n",
        "df2.drop_duplicates(inplace=True)"
      ],
      "metadata": {
        "id": "OyKx4Y4C4RMp"
      },
      "id": "OyKx4Y4C4RMp",
      "execution_count": null,
      "outputs": []
    },
    {
      "cell_type": "code",
      "source": [
        "df.duplicated().sum() # SnoopDog Dancing\n",
        "df1.duplicated().sum()\n",
        "df2.duplicated().sum()\n",
        "# Drop it like it's hot"
      ],
      "metadata": {
        "colab": {
          "base_uri": "https://localhost:8080/"
        },
        "id": "SyEflIbfpdUr",
        "outputId": "44db535d-1215-48e8-b9a1-cc2e9a87c062"
      },
      "id": "SyEflIbfpdUr",
      "execution_count": null,
      "outputs": [
        {
          "output_type": "execute_result",
          "data": {
            "text/plain": [
              "0"
            ]
          },
          "metadata": {},
          "execution_count": 183
        }
      ]
    },
    {
      "cell_type": "code",
      "source": [
        "# suspense drums for \"customer_data\""
      ],
      "metadata": {
        "id": "AIyqSDtsrOIW"
      },
      "id": "AIyqSDtsrOIW",
      "execution_count": null,
      "outputs": []
    },
    {
      "cell_type": "code",
      "source": [
        "customer_data = pd.concat((df1, df2, df), axis = 0 ) ##### ROW WISE\n",
        "customer_data.shape"
      ],
      "metadata": {
        "colab": {
          "base_uri": "https://localhost:8080/"
        },
        "id": "kwOM0lGh7UQA",
        "outputId": "7ffec9a1-a1cb-40d0-d28d-eafd25fdd33a"
      },
      "id": "kwOM0lGh7UQA",
      "execution_count": null,
      "outputs": [
        {
          "output_type": "execute_result",
          "data": {
            "text/plain": [
              "(19339, 11)"
            ]
          },
          "metadata": {},
          "execution_count": 207
        }
      ]
    },
    {
      "cell_type": "code",
      "source": [
        "# Le'ts take out duplicates an reset index\n",
        "# Dropping all duplicate rows\n",
        "customer_data.drop_duplicates(inplace=True)\n",
        "customer_data.shape"
      ],
      "metadata": {
        "colab": {
          "base_uri": "https://localhost:8080/"
        },
        "id": "3CUfpai47UOA",
        "outputId": "68755332-dec6-4531-e089-c092753ce60b"
      },
      "id": "3CUfpai47UOA",
      "execution_count": null,
      "outputs": [
        {
          "output_type": "execute_result",
          "data": {
            "text/plain": [
              "(9137, 11)"
            ]
          },
          "metadata": {},
          "execution_count": 208
        }
      ]
    },
    {
      "cell_type": "code",
      "source": [
        "# Checking this on ChatGPT\n",
        "\n",
        "customer_data.to_csv('customer_data_cleaned_Lab_03.csv', index=False)"
      ],
      "metadata": {
        "id": "PIFkUUhs_T9e"
      },
      "id": "PIFkUUhs_T9e",
      "execution_count": null,
      "outputs": []
    },
    {
      "cell_type": "code",
      "source": [],
      "metadata": {
        "id": "McMLNgnZ_d_Z"
      },
      "id": "McMLNgnZ_d_Z",
      "execution_count": null,
      "outputs": []
    },
    {
      "cell_type": "markdown",
      "id": "31b8a9e7-7db9-4604-991b-ef6771603e57",
      "metadata": {
        "id": "31b8a9e7-7db9-4604-991b-ef6771603e57"
      },
      "source": [
        "# Challenge 2: Structuring Data"
      ]
    },
    {
      "cell_type": "markdown",
      "id": "a877fd6d-7a0c-46d2-9657-f25036e4ca4b",
      "metadata": {
        "id": "a877fd6d-7a0c-46d2-9657-f25036e4ca4b"
      },
      "source": [
        "In this challenge, we will continue to work with customer data from an insurance company, but we will use a dataset with more columns, called marketing_customer_analysis.csv, which can be found at the following link:\n",
        "\n",
        "https://raw.githubusercontent.com/data-bootcamp-v4/data/main/marketing_customer_analysis_clean.csv\n",
        "\n",
        "This dataset contains information such as customer demographics, policy details, vehicle information, and the customer's response to the last marketing campaign. Our goal is to explore and analyze this data by performing data cleaning, formatting, and structuring."
      ]
    },
    {
      "cell_type": "code",
      "execution_count": null,
      "id": "aa10d9b0-1c27-4d3f-a8e4-db6ab73bfd26",
      "metadata": {
        "id": "aa10d9b0-1c27-4d3f-a8e4-db6ab73bfd26",
        "colab": {
          "base_uri": "https://localhost:8080/",
          "height": 342
        },
        "outputId": "94601a84-c717-4f9e-cc4f-1d69ce465668"
      },
      "outputs": [
        {
          "output_type": "execute_result",
          "data": {
            "text/plain": [
              "   unnamed:_0 customer       state  customer_lifetime_value response  \\\n",
              "0           0  DK49336     Arizona              4809.216960       No   \n",
              "1           1  KX64629  California              2228.525238       No   \n",
              "2           2  LZ68649  Washington             14947.917300       No   \n",
              "3           3  XL78013      Oregon             22332.439460      Yes   \n",
              "4           4  QA50777      Oregon              9025.067525       No   \n",
              "\n",
              "   coverage education effective_to_date employmentstatus gender  ...  \\\n",
              "0     Basic   College        2011-02-18         Employed      M  ...   \n",
              "1     Basic   College        2011-01-18       Unemployed      F  ...   \n",
              "2     Basic  Bachelor        2011-02-10         Employed      M  ...   \n",
              "3  Extended   College        2011-01-11         Employed      M  ...   \n",
              "4   Premium  Bachelor        2011-01-17    Medical Leave      F  ...   \n",
              "\n",
              "   number_of_policies     policy_type        policy  renew_offer_type  \\\n",
              "0                   9  Corporate Auto  Corporate L3            Offer3   \n",
              "1                   1   Personal Auto   Personal L3            Offer4   \n",
              "2                   2   Personal Auto   Personal L3            Offer3   \n",
              "3                   2  Corporate Auto  Corporate L3            Offer2   \n",
              "4                   7   Personal Auto   Personal L2            Offer1   \n",
              "\n",
              "   sales_channel  total_claim_amount  vehicle_class  vehicle_size  \\\n",
              "0          Agent          292.800000  Four-Door Car       Medsize   \n",
              "1    Call Center          744.924331  Four-Door Car       Medsize   \n",
              "2    Call Center          480.000000            SUV       Medsize   \n",
              "3         Branch          484.013411  Four-Door Car       Medsize   \n",
              "4         Branch          707.925645  Four-Door Car       Medsize   \n",
              "\n",
              "  vehicle_type month  \n",
              "0            A     2  \n",
              "1            A     1  \n",
              "2            A     2  \n",
              "3            A     1  \n",
              "4            A     1  \n",
              "\n",
              "[5 rows x 27 columns]"
            ],
            "text/html": [
              "\n",
              "  <div id=\"df-093f9064-a31d-4d3f-83f2-1f15fe9b3a02\" class=\"colab-df-container\">\n",
              "    <div>\n",
              "<style scoped>\n",
              "    .dataframe tbody tr th:only-of-type {\n",
              "        vertical-align: middle;\n",
              "    }\n",
              "\n",
              "    .dataframe tbody tr th {\n",
              "        vertical-align: top;\n",
              "    }\n",
              "\n",
              "    .dataframe thead th {\n",
              "        text-align: right;\n",
              "    }\n",
              "</style>\n",
              "<table border=\"1\" class=\"dataframe\">\n",
              "  <thead>\n",
              "    <tr style=\"text-align: right;\">\n",
              "      <th></th>\n",
              "      <th>unnamed:_0</th>\n",
              "      <th>customer</th>\n",
              "      <th>state</th>\n",
              "      <th>customer_lifetime_value</th>\n",
              "      <th>response</th>\n",
              "      <th>coverage</th>\n",
              "      <th>education</th>\n",
              "      <th>effective_to_date</th>\n",
              "      <th>employmentstatus</th>\n",
              "      <th>gender</th>\n",
              "      <th>...</th>\n",
              "      <th>number_of_policies</th>\n",
              "      <th>policy_type</th>\n",
              "      <th>policy</th>\n",
              "      <th>renew_offer_type</th>\n",
              "      <th>sales_channel</th>\n",
              "      <th>total_claim_amount</th>\n",
              "      <th>vehicle_class</th>\n",
              "      <th>vehicle_size</th>\n",
              "      <th>vehicle_type</th>\n",
              "      <th>month</th>\n",
              "    </tr>\n",
              "  </thead>\n",
              "  <tbody>\n",
              "    <tr>\n",
              "      <th>0</th>\n",
              "      <td>0</td>\n",
              "      <td>DK49336</td>\n",
              "      <td>Arizona</td>\n",
              "      <td>4809.216960</td>\n",
              "      <td>No</td>\n",
              "      <td>Basic</td>\n",
              "      <td>College</td>\n",
              "      <td>2011-02-18</td>\n",
              "      <td>Employed</td>\n",
              "      <td>M</td>\n",
              "      <td>...</td>\n",
              "      <td>9</td>\n",
              "      <td>Corporate Auto</td>\n",
              "      <td>Corporate L3</td>\n",
              "      <td>Offer3</td>\n",
              "      <td>Agent</td>\n",
              "      <td>292.800000</td>\n",
              "      <td>Four-Door Car</td>\n",
              "      <td>Medsize</td>\n",
              "      <td>A</td>\n",
              "      <td>2</td>\n",
              "    </tr>\n",
              "    <tr>\n",
              "      <th>1</th>\n",
              "      <td>1</td>\n",
              "      <td>KX64629</td>\n",
              "      <td>California</td>\n",
              "      <td>2228.525238</td>\n",
              "      <td>No</td>\n",
              "      <td>Basic</td>\n",
              "      <td>College</td>\n",
              "      <td>2011-01-18</td>\n",
              "      <td>Unemployed</td>\n",
              "      <td>F</td>\n",
              "      <td>...</td>\n",
              "      <td>1</td>\n",
              "      <td>Personal Auto</td>\n",
              "      <td>Personal L3</td>\n",
              "      <td>Offer4</td>\n",
              "      <td>Call Center</td>\n",
              "      <td>744.924331</td>\n",
              "      <td>Four-Door Car</td>\n",
              "      <td>Medsize</td>\n",
              "      <td>A</td>\n",
              "      <td>1</td>\n",
              "    </tr>\n",
              "    <tr>\n",
              "      <th>2</th>\n",
              "      <td>2</td>\n",
              "      <td>LZ68649</td>\n",
              "      <td>Washington</td>\n",
              "      <td>14947.917300</td>\n",
              "      <td>No</td>\n",
              "      <td>Basic</td>\n",
              "      <td>Bachelor</td>\n",
              "      <td>2011-02-10</td>\n",
              "      <td>Employed</td>\n",
              "      <td>M</td>\n",
              "      <td>...</td>\n",
              "      <td>2</td>\n",
              "      <td>Personal Auto</td>\n",
              "      <td>Personal L3</td>\n",
              "      <td>Offer3</td>\n",
              "      <td>Call Center</td>\n",
              "      <td>480.000000</td>\n",
              "      <td>SUV</td>\n",
              "      <td>Medsize</td>\n",
              "      <td>A</td>\n",
              "      <td>2</td>\n",
              "    </tr>\n",
              "    <tr>\n",
              "      <th>3</th>\n",
              "      <td>3</td>\n",
              "      <td>XL78013</td>\n",
              "      <td>Oregon</td>\n",
              "      <td>22332.439460</td>\n",
              "      <td>Yes</td>\n",
              "      <td>Extended</td>\n",
              "      <td>College</td>\n",
              "      <td>2011-01-11</td>\n",
              "      <td>Employed</td>\n",
              "      <td>M</td>\n",
              "      <td>...</td>\n",
              "      <td>2</td>\n",
              "      <td>Corporate Auto</td>\n",
              "      <td>Corporate L3</td>\n",
              "      <td>Offer2</td>\n",
              "      <td>Branch</td>\n",
              "      <td>484.013411</td>\n",
              "      <td>Four-Door Car</td>\n",
              "      <td>Medsize</td>\n",
              "      <td>A</td>\n",
              "      <td>1</td>\n",
              "    </tr>\n",
              "    <tr>\n",
              "      <th>4</th>\n",
              "      <td>4</td>\n",
              "      <td>QA50777</td>\n",
              "      <td>Oregon</td>\n",
              "      <td>9025.067525</td>\n",
              "      <td>No</td>\n",
              "      <td>Premium</td>\n",
              "      <td>Bachelor</td>\n",
              "      <td>2011-01-17</td>\n",
              "      <td>Medical Leave</td>\n",
              "      <td>F</td>\n",
              "      <td>...</td>\n",
              "      <td>7</td>\n",
              "      <td>Personal Auto</td>\n",
              "      <td>Personal L2</td>\n",
              "      <td>Offer1</td>\n",
              "      <td>Branch</td>\n",
              "      <td>707.925645</td>\n",
              "      <td>Four-Door Car</td>\n",
              "      <td>Medsize</td>\n",
              "      <td>A</td>\n",
              "      <td>1</td>\n",
              "    </tr>\n",
              "  </tbody>\n",
              "</table>\n",
              "<p>5 rows × 27 columns</p>\n",
              "</div>\n",
              "    <div class=\"colab-df-buttons\">\n",
              "\n",
              "  <div class=\"colab-df-container\">\n",
              "    <button class=\"colab-df-convert\" onclick=\"convertToInteractive('df-093f9064-a31d-4d3f-83f2-1f15fe9b3a02')\"\n",
              "            title=\"Convert this dataframe to an interactive table.\"\n",
              "            style=\"display:none;\">\n",
              "\n",
              "  <svg xmlns=\"http://www.w3.org/2000/svg\" height=\"24px\" viewBox=\"0 -960 960 960\">\n",
              "    <path d=\"M120-120v-720h720v720H120Zm60-500h600v-160H180v160Zm220 220h160v-160H400v160Zm0 220h160v-160H400v160ZM180-400h160v-160H180v160Zm440 0h160v-160H620v160ZM180-180h160v-160H180v160Zm440 0h160v-160H620v160Z\"/>\n",
              "  </svg>\n",
              "    </button>\n",
              "\n",
              "  <style>\n",
              "    .colab-df-container {\n",
              "      display:flex;\n",
              "      gap: 12px;\n",
              "    }\n",
              "\n",
              "    .colab-df-convert {\n",
              "      background-color: #E8F0FE;\n",
              "      border: none;\n",
              "      border-radius: 50%;\n",
              "      cursor: pointer;\n",
              "      display: none;\n",
              "      fill: #1967D2;\n",
              "      height: 32px;\n",
              "      padding: 0 0 0 0;\n",
              "      width: 32px;\n",
              "    }\n",
              "\n",
              "    .colab-df-convert:hover {\n",
              "      background-color: #E2EBFA;\n",
              "      box-shadow: 0px 1px 2px rgba(60, 64, 67, 0.3), 0px 1px 3px 1px rgba(60, 64, 67, 0.15);\n",
              "      fill: #174EA6;\n",
              "    }\n",
              "\n",
              "    .colab-df-buttons div {\n",
              "      margin-bottom: 4px;\n",
              "    }\n",
              "\n",
              "    [theme=dark] .colab-df-convert {\n",
              "      background-color: #3B4455;\n",
              "      fill: #D2E3FC;\n",
              "    }\n",
              "\n",
              "    [theme=dark] .colab-df-convert:hover {\n",
              "      background-color: #434B5C;\n",
              "      box-shadow: 0px 1px 3px 1px rgba(0, 0, 0, 0.15);\n",
              "      filter: drop-shadow(0px 1px 2px rgba(0, 0, 0, 0.3));\n",
              "      fill: #FFFFFF;\n",
              "    }\n",
              "  </style>\n",
              "\n",
              "    <script>\n",
              "      const buttonEl =\n",
              "        document.querySelector('#df-093f9064-a31d-4d3f-83f2-1f15fe9b3a02 button.colab-df-convert');\n",
              "      buttonEl.style.display =\n",
              "        google.colab.kernel.accessAllowed ? 'block' : 'none';\n",
              "\n",
              "      async function convertToInteractive(key) {\n",
              "        const element = document.querySelector('#df-093f9064-a31d-4d3f-83f2-1f15fe9b3a02');\n",
              "        const dataTable =\n",
              "          await google.colab.kernel.invokeFunction('convertToInteractive',\n",
              "                                                    [key], {});\n",
              "        if (!dataTable) return;\n",
              "\n",
              "        const docLinkHtml = 'Like what you see? Visit the ' +\n",
              "          '<a target=\"_blank\" href=https://colab.research.google.com/notebooks/data_table.ipynb>data table notebook</a>'\n",
              "          + ' to learn more about interactive tables.';\n",
              "        element.innerHTML = '';\n",
              "        dataTable['output_type'] = 'display_data';\n",
              "        await google.colab.output.renderOutput(dataTable, element);\n",
              "        const docLink = document.createElement('div');\n",
              "        docLink.innerHTML = docLinkHtml;\n",
              "        element.appendChild(docLink);\n",
              "      }\n",
              "    </script>\n",
              "  </div>\n",
              "\n",
              "\n",
              "<div id=\"df-0ce6b452-6a1b-47ae-821f-d4155b1f4a4a\">\n",
              "  <button class=\"colab-df-quickchart\" onclick=\"quickchart('df-0ce6b452-6a1b-47ae-821f-d4155b1f4a4a')\"\n",
              "            title=\"Suggest charts.\"\n",
              "            style=\"display:none;\">\n",
              "\n",
              "<svg xmlns=\"http://www.w3.org/2000/svg\" height=\"24px\"viewBox=\"0 0 24 24\"\n",
              "     width=\"24px\">\n",
              "    <g>\n",
              "        <path d=\"M19 3H5c-1.1 0-2 .9-2 2v14c0 1.1.9 2 2 2h14c1.1 0 2-.9 2-2V5c0-1.1-.9-2-2-2zM9 17H7v-7h2v7zm4 0h-2V7h2v10zm4 0h-2v-4h2v4z\"/>\n",
              "    </g>\n",
              "</svg>\n",
              "  </button>\n",
              "\n",
              "<style>\n",
              "  .colab-df-quickchart {\n",
              "      --bg-color: #E8F0FE;\n",
              "      --fill-color: #1967D2;\n",
              "      --hover-bg-color: #E2EBFA;\n",
              "      --hover-fill-color: #174EA6;\n",
              "      --disabled-fill-color: #AAA;\n",
              "      --disabled-bg-color: #DDD;\n",
              "  }\n",
              "\n",
              "  [theme=dark] .colab-df-quickchart {\n",
              "      --bg-color: #3B4455;\n",
              "      --fill-color: #D2E3FC;\n",
              "      --hover-bg-color: #434B5C;\n",
              "      --hover-fill-color: #FFFFFF;\n",
              "      --disabled-bg-color: #3B4455;\n",
              "      --disabled-fill-color: #666;\n",
              "  }\n",
              "\n",
              "  .colab-df-quickchart {\n",
              "    background-color: var(--bg-color);\n",
              "    border: none;\n",
              "    border-radius: 50%;\n",
              "    cursor: pointer;\n",
              "    display: none;\n",
              "    fill: var(--fill-color);\n",
              "    height: 32px;\n",
              "    padding: 0;\n",
              "    width: 32px;\n",
              "  }\n",
              "\n",
              "  .colab-df-quickchart:hover {\n",
              "    background-color: var(--hover-bg-color);\n",
              "    box-shadow: 0 1px 2px rgba(60, 64, 67, 0.3), 0 1px 3px 1px rgba(60, 64, 67, 0.15);\n",
              "    fill: var(--button-hover-fill-color);\n",
              "  }\n",
              "\n",
              "  .colab-df-quickchart-complete:disabled,\n",
              "  .colab-df-quickchart-complete:disabled:hover {\n",
              "    background-color: var(--disabled-bg-color);\n",
              "    fill: var(--disabled-fill-color);\n",
              "    box-shadow: none;\n",
              "  }\n",
              "\n",
              "  .colab-df-spinner {\n",
              "    border: 2px solid var(--fill-color);\n",
              "    border-color: transparent;\n",
              "    border-bottom-color: var(--fill-color);\n",
              "    animation:\n",
              "      spin 1s steps(1) infinite;\n",
              "  }\n",
              "\n",
              "  @keyframes spin {\n",
              "    0% {\n",
              "      border-color: transparent;\n",
              "      border-bottom-color: var(--fill-color);\n",
              "      border-left-color: var(--fill-color);\n",
              "    }\n",
              "    20% {\n",
              "      border-color: transparent;\n",
              "      border-left-color: var(--fill-color);\n",
              "      border-top-color: var(--fill-color);\n",
              "    }\n",
              "    30% {\n",
              "      border-color: transparent;\n",
              "      border-left-color: var(--fill-color);\n",
              "      border-top-color: var(--fill-color);\n",
              "      border-right-color: var(--fill-color);\n",
              "    }\n",
              "    40% {\n",
              "      border-color: transparent;\n",
              "      border-right-color: var(--fill-color);\n",
              "      border-top-color: var(--fill-color);\n",
              "    }\n",
              "    60% {\n",
              "      border-color: transparent;\n",
              "      border-right-color: var(--fill-color);\n",
              "    }\n",
              "    80% {\n",
              "      border-color: transparent;\n",
              "      border-right-color: var(--fill-color);\n",
              "      border-bottom-color: var(--fill-color);\n",
              "    }\n",
              "    90% {\n",
              "      border-color: transparent;\n",
              "      border-bottom-color: var(--fill-color);\n",
              "    }\n",
              "  }\n",
              "</style>\n",
              "\n",
              "  <script>\n",
              "    async function quickchart(key) {\n",
              "      const quickchartButtonEl =\n",
              "        document.querySelector('#' + key + ' button');\n",
              "      quickchartButtonEl.disabled = true;  // To prevent multiple clicks.\n",
              "      quickchartButtonEl.classList.add('colab-df-spinner');\n",
              "      try {\n",
              "        const charts = await google.colab.kernel.invokeFunction(\n",
              "            'suggestCharts', [key], {});\n",
              "      } catch (error) {\n",
              "        console.error('Error during call to suggestCharts:', error);\n",
              "      }\n",
              "      quickchartButtonEl.classList.remove('colab-df-spinner');\n",
              "      quickchartButtonEl.classList.add('colab-df-quickchart-complete');\n",
              "    }\n",
              "    (() => {\n",
              "      let quickchartButtonEl =\n",
              "        document.querySelector('#df-0ce6b452-6a1b-47ae-821f-d4155b1f4a4a button');\n",
              "      quickchartButtonEl.style.display =\n",
              "        google.colab.kernel.accessAllowed ? 'block' : 'none';\n",
              "    })();\n",
              "  </script>\n",
              "</div>\n",
              "    </div>\n",
              "  </div>\n"
            ]
          },
          "metadata": {},
          "execution_count": 10
        }
      ],
      "source": [
        "url = \"https://raw.githubusercontent.com/data-bootcamp-v4/data/main/marketing_customer_analysis_clean.csv\"\n",
        "\n",
        "df3 = pd.read_csv(url)\n",
        "df3.head()\n",
        "\n",
        "#df3.columns"
      ]
    },
    {
      "cell_type": "code",
      "source": [
        "df3.isnull().sum() # a cleaned table <3\n",
        "df.duplicated().sum() # a cleaned table <3"
      ],
      "metadata": {
        "colab": {
          "base_uri": "https://localhost:8080/"
        },
        "id": "sJoOJmdZeGDE",
        "outputId": "c3926bd3-2eab-4dfc-bb26-7ecd282210a2"
      },
      "id": "sJoOJmdZeGDE",
      "execution_count": null,
      "outputs": [
        {
          "output_type": "execute_result",
          "data": {
            "text/plain": [
              "0"
            ]
          },
          "metadata": {},
          "execution_count": 6
        }
      ]
    },
    {
      "cell_type": "markdown",
      "id": "df35fd0d-513e-4e77-867e-429da10a9cc7",
      "metadata": {
        "id": "df35fd0d-513e-4e77-867e-429da10a9cc7"
      },
      "source": [
        "1. You work at the marketing department and you want to know which sales channel brought the most sales in terms of total revenue. Using pivot, create a summary table showing the total revenue for each sales channel (branch, call center, web, and mail).\n",
        "Round the total revenue to 2 decimal points.  Analyze the resulting table to draw insights."
      ]
    },
    {
      "cell_type": "code",
      "source": [
        "df3[\"sales_channel\"].describe()"
      ],
      "metadata": {
        "id": "YY0W5sN6p0sU"
      },
      "id": "YY0W5sN6p0sU",
      "execution_count": null,
      "outputs": []
    },
    {
      "cell_type": "code",
      "source": [
        "df3[\"sales_channel\"].unique"
      ],
      "metadata": {
        "id": "uYmyiMlrHyuW"
      },
      "id": "uYmyiMlrHyuW",
      "execution_count": null,
      "outputs": []
    },
    {
      "cell_type": "code",
      "source": [
        "df3[\"sales_channel\"].value_counts()\n"
      ],
      "metadata": {
        "id": "iRvKtF_iVHaU"
      },
      "id": "iRvKtF_iVHaU",
      "execution_count": null,
      "outputs": []
    },
    {
      "cell_type": "code",
      "source": [
        "# CLV represents the total net profit a company can expect to generate from a customer throughout their entire relationship.\n",
        "# So if customers that will generate more money are reached by the agents, you can tell to the marketing department that in terms of total revenue,\n",
        "# agents are top marketing tool.\n",
        "\n",
        "channel_pivot = df3.pivot_table(index=\"sales_channel\", values= \"customer_lifetime_value\", aggfunc = \"sum\").reset_index()\n",
        "\n",
        "channel_pivot.round(2)"
      ],
      "metadata": {
        "colab": {
          "base_uri": "https://localhost:8080/",
          "height": 175
        },
        "id": "UVUVl_K5WKs4",
        "outputId": "c8ded2da-b8dd-4215-a6d1-757a8cf1ba44"
      },
      "id": "UVUVl_K5WKs4",
      "execution_count": null,
      "outputs": [
        {
          "output_type": "execute_result",
          "data": {
            "text/plain": [
              "  sales_channel  customer_lifetime_value\n",
              "0         Agent              33057887.85\n",
              "1        Branch              24359201.21\n",
              "2   Call Center              17364288.37\n",
              "3           Web              12697632.90"
            ],
            "text/html": [
              "\n",
              "  <div id=\"df-ddd89135-d433-4362-9820-4bc9510325c3\" class=\"colab-df-container\">\n",
              "    <div>\n",
              "<style scoped>\n",
              "    .dataframe tbody tr th:only-of-type {\n",
              "        vertical-align: middle;\n",
              "    }\n",
              "\n",
              "    .dataframe tbody tr th {\n",
              "        vertical-align: top;\n",
              "    }\n",
              "\n",
              "    .dataframe thead th {\n",
              "        text-align: right;\n",
              "    }\n",
              "</style>\n",
              "<table border=\"1\" class=\"dataframe\">\n",
              "  <thead>\n",
              "    <tr style=\"text-align: right;\">\n",
              "      <th></th>\n",
              "      <th>sales_channel</th>\n",
              "      <th>customer_lifetime_value</th>\n",
              "    </tr>\n",
              "  </thead>\n",
              "  <tbody>\n",
              "    <tr>\n",
              "      <th>0</th>\n",
              "      <td>Agent</td>\n",
              "      <td>33057887.85</td>\n",
              "    </tr>\n",
              "    <tr>\n",
              "      <th>1</th>\n",
              "      <td>Branch</td>\n",
              "      <td>24359201.21</td>\n",
              "    </tr>\n",
              "    <tr>\n",
              "      <th>2</th>\n",
              "      <td>Call Center</td>\n",
              "      <td>17364288.37</td>\n",
              "    </tr>\n",
              "    <tr>\n",
              "      <th>3</th>\n",
              "      <td>Web</td>\n",
              "      <td>12697632.90</td>\n",
              "    </tr>\n",
              "  </tbody>\n",
              "</table>\n",
              "</div>\n",
              "    <div class=\"colab-df-buttons\">\n",
              "\n",
              "  <div class=\"colab-df-container\">\n",
              "    <button class=\"colab-df-convert\" onclick=\"convertToInteractive('df-ddd89135-d433-4362-9820-4bc9510325c3')\"\n",
              "            title=\"Convert this dataframe to an interactive table.\"\n",
              "            style=\"display:none;\">\n",
              "\n",
              "  <svg xmlns=\"http://www.w3.org/2000/svg\" height=\"24px\" viewBox=\"0 -960 960 960\">\n",
              "    <path d=\"M120-120v-720h720v720H120Zm60-500h600v-160H180v160Zm220 220h160v-160H400v160Zm0 220h160v-160H400v160ZM180-400h160v-160H180v160Zm440 0h160v-160H620v160ZM180-180h160v-160H180v160Zm440 0h160v-160H620v160Z\"/>\n",
              "  </svg>\n",
              "    </button>\n",
              "\n",
              "  <style>\n",
              "    .colab-df-container {\n",
              "      display:flex;\n",
              "      gap: 12px;\n",
              "    }\n",
              "\n",
              "    .colab-df-convert {\n",
              "      background-color: #E8F0FE;\n",
              "      border: none;\n",
              "      border-radius: 50%;\n",
              "      cursor: pointer;\n",
              "      display: none;\n",
              "      fill: #1967D2;\n",
              "      height: 32px;\n",
              "      padding: 0 0 0 0;\n",
              "      width: 32px;\n",
              "    }\n",
              "\n",
              "    .colab-df-convert:hover {\n",
              "      background-color: #E2EBFA;\n",
              "      box-shadow: 0px 1px 2px rgba(60, 64, 67, 0.3), 0px 1px 3px 1px rgba(60, 64, 67, 0.15);\n",
              "      fill: #174EA6;\n",
              "    }\n",
              "\n",
              "    .colab-df-buttons div {\n",
              "      margin-bottom: 4px;\n",
              "    }\n",
              "\n",
              "    [theme=dark] .colab-df-convert {\n",
              "      background-color: #3B4455;\n",
              "      fill: #D2E3FC;\n",
              "    }\n",
              "\n",
              "    [theme=dark] .colab-df-convert:hover {\n",
              "      background-color: #434B5C;\n",
              "      box-shadow: 0px 1px 3px 1px rgba(0, 0, 0, 0.15);\n",
              "      filter: drop-shadow(0px 1px 2px rgba(0, 0, 0, 0.3));\n",
              "      fill: #FFFFFF;\n",
              "    }\n",
              "  </style>\n",
              "\n",
              "    <script>\n",
              "      const buttonEl =\n",
              "        document.querySelector('#df-ddd89135-d433-4362-9820-4bc9510325c3 button.colab-df-convert');\n",
              "      buttonEl.style.display =\n",
              "        google.colab.kernel.accessAllowed ? 'block' : 'none';\n",
              "\n",
              "      async function convertToInteractive(key) {\n",
              "        const element = document.querySelector('#df-ddd89135-d433-4362-9820-4bc9510325c3');\n",
              "        const dataTable =\n",
              "          await google.colab.kernel.invokeFunction('convertToInteractive',\n",
              "                                                    [key], {});\n",
              "        if (!dataTable) return;\n",
              "\n",
              "        const docLinkHtml = 'Like what you see? Visit the ' +\n",
              "          '<a target=\"_blank\" href=https://colab.research.google.com/notebooks/data_table.ipynb>data table notebook</a>'\n",
              "          + ' to learn more about interactive tables.';\n",
              "        element.innerHTML = '';\n",
              "        dataTable['output_type'] = 'display_data';\n",
              "        await google.colab.output.renderOutput(dataTable, element);\n",
              "        const docLink = document.createElement('div');\n",
              "        docLink.innerHTML = docLinkHtml;\n",
              "        element.appendChild(docLink);\n",
              "      }\n",
              "    </script>\n",
              "  </div>\n",
              "\n",
              "\n",
              "<div id=\"df-9b2ad962-8e73-42ea-9b0d-5c56722d6d0d\">\n",
              "  <button class=\"colab-df-quickchart\" onclick=\"quickchart('df-9b2ad962-8e73-42ea-9b0d-5c56722d6d0d')\"\n",
              "            title=\"Suggest charts.\"\n",
              "            style=\"display:none;\">\n",
              "\n",
              "<svg xmlns=\"http://www.w3.org/2000/svg\" height=\"24px\"viewBox=\"0 0 24 24\"\n",
              "     width=\"24px\">\n",
              "    <g>\n",
              "        <path d=\"M19 3H5c-1.1 0-2 .9-2 2v14c0 1.1.9 2 2 2h14c1.1 0 2-.9 2-2V5c0-1.1-.9-2-2-2zM9 17H7v-7h2v7zm4 0h-2V7h2v10zm4 0h-2v-4h2v4z\"/>\n",
              "    </g>\n",
              "</svg>\n",
              "  </button>\n",
              "\n",
              "<style>\n",
              "  .colab-df-quickchart {\n",
              "      --bg-color: #E8F0FE;\n",
              "      --fill-color: #1967D2;\n",
              "      --hover-bg-color: #E2EBFA;\n",
              "      --hover-fill-color: #174EA6;\n",
              "      --disabled-fill-color: #AAA;\n",
              "      --disabled-bg-color: #DDD;\n",
              "  }\n",
              "\n",
              "  [theme=dark] .colab-df-quickchart {\n",
              "      --bg-color: #3B4455;\n",
              "      --fill-color: #D2E3FC;\n",
              "      --hover-bg-color: #434B5C;\n",
              "      --hover-fill-color: #FFFFFF;\n",
              "      --disabled-bg-color: #3B4455;\n",
              "      --disabled-fill-color: #666;\n",
              "  }\n",
              "\n",
              "  .colab-df-quickchart {\n",
              "    background-color: var(--bg-color);\n",
              "    border: none;\n",
              "    border-radius: 50%;\n",
              "    cursor: pointer;\n",
              "    display: none;\n",
              "    fill: var(--fill-color);\n",
              "    height: 32px;\n",
              "    padding: 0;\n",
              "    width: 32px;\n",
              "  }\n",
              "\n",
              "  .colab-df-quickchart:hover {\n",
              "    background-color: var(--hover-bg-color);\n",
              "    box-shadow: 0 1px 2px rgba(60, 64, 67, 0.3), 0 1px 3px 1px rgba(60, 64, 67, 0.15);\n",
              "    fill: var(--button-hover-fill-color);\n",
              "  }\n",
              "\n",
              "  .colab-df-quickchart-complete:disabled,\n",
              "  .colab-df-quickchart-complete:disabled:hover {\n",
              "    background-color: var(--disabled-bg-color);\n",
              "    fill: var(--disabled-fill-color);\n",
              "    box-shadow: none;\n",
              "  }\n",
              "\n",
              "  .colab-df-spinner {\n",
              "    border: 2px solid var(--fill-color);\n",
              "    border-color: transparent;\n",
              "    border-bottom-color: var(--fill-color);\n",
              "    animation:\n",
              "      spin 1s steps(1) infinite;\n",
              "  }\n",
              "\n",
              "  @keyframes spin {\n",
              "    0% {\n",
              "      border-color: transparent;\n",
              "      border-bottom-color: var(--fill-color);\n",
              "      border-left-color: var(--fill-color);\n",
              "    }\n",
              "    20% {\n",
              "      border-color: transparent;\n",
              "      border-left-color: var(--fill-color);\n",
              "      border-top-color: var(--fill-color);\n",
              "    }\n",
              "    30% {\n",
              "      border-color: transparent;\n",
              "      border-left-color: var(--fill-color);\n",
              "      border-top-color: var(--fill-color);\n",
              "      border-right-color: var(--fill-color);\n",
              "    }\n",
              "    40% {\n",
              "      border-color: transparent;\n",
              "      border-right-color: var(--fill-color);\n",
              "      border-top-color: var(--fill-color);\n",
              "    }\n",
              "    60% {\n",
              "      border-color: transparent;\n",
              "      border-right-color: var(--fill-color);\n",
              "    }\n",
              "    80% {\n",
              "      border-color: transparent;\n",
              "      border-right-color: var(--fill-color);\n",
              "      border-bottom-color: var(--fill-color);\n",
              "    }\n",
              "    90% {\n",
              "      border-color: transparent;\n",
              "      border-bottom-color: var(--fill-color);\n",
              "    }\n",
              "  }\n",
              "</style>\n",
              "\n",
              "  <script>\n",
              "    async function quickchart(key) {\n",
              "      const quickchartButtonEl =\n",
              "        document.querySelector('#' + key + ' button');\n",
              "      quickchartButtonEl.disabled = true;  // To prevent multiple clicks.\n",
              "      quickchartButtonEl.classList.add('colab-df-spinner');\n",
              "      try {\n",
              "        const charts = await google.colab.kernel.invokeFunction(\n",
              "            'suggestCharts', [key], {});\n",
              "      } catch (error) {\n",
              "        console.error('Error during call to suggestCharts:', error);\n",
              "      }\n",
              "      quickchartButtonEl.classList.remove('colab-df-spinner');\n",
              "      quickchartButtonEl.classList.add('colab-df-quickchart-complete');\n",
              "    }\n",
              "    (() => {\n",
              "      let quickchartButtonEl =\n",
              "        document.querySelector('#df-9b2ad962-8e73-42ea-9b0d-5c56722d6d0d button');\n",
              "      quickchartButtonEl.style.display =\n",
              "        google.colab.kernel.accessAllowed ? 'block' : 'none';\n",
              "    })();\n",
              "  </script>\n",
              "</div>\n",
              "    </div>\n",
              "  </div>\n"
            ]
          },
          "metadata": {},
          "execution_count": 15
        }
      ]
    },
    {
      "cell_type": "markdown",
      "id": "640993b2-a291-436c-a34d-a551144f8196",
      "metadata": {
        "id": "640993b2-a291-436c-a34d-a551144f8196"
      },
      "source": [
        "2. Create a pivot table that shows the average customer lifetime value per gender and education level. Analyze the resulting table to draw insights."
      ]
    },
    {
      "cell_type": "code",
      "source": [
        "# I think i need to group the data first:\n",
        "pivot1 = customer_data.groupby([\"gender\", \"education\"])['customer_lifetime_value'].mean()\n",
        "pivot1"
      ],
      "metadata": {
        "id": "M6ZDEOLQgriT"
      },
      "id": "M6ZDEOLQgriT",
      "execution_count": null,
      "outputs": []
    },
    {
      "cell_type": "code",
      "source": [
        "# Then reset the index\n",
        "pivot1 = customer_data.groupby([\"gender\", \"education\"])[\"customer_lifetime_value\"].mean().reset_index()\n",
        "pivot1"
      ],
      "metadata": {
        "id": "F8HJSIY6grft"
      },
      "id": "F8HJSIY6grft",
      "execution_count": null,
      "outputs": []
    },
    {
      "cell_type": "code",
      "source": [
        "# And now convert it to a pivot table\n",
        "pivot_table1 = pd.pivot_table(pivot1, values = \"customer_lifetime_value\", index=\"gender\", columns=\"education\")\n",
        "rounded_pivot_table1 = pivot_table1.round(2) # --- > thank you, chat GPT\n",
        "rounded_pivot_table1"
      ],
      "metadata": {
        "id": "SRxsC-cPij_0"
      },
      "id": "SRxsC-cPij_0",
      "execution_count": null,
      "outputs": []
    },
    {
      "cell_type": "code",
      "source": [
        "###  Customer lifetime value per gender and education level\n",
        "\n",
        "# Women who have higher education level, seem to be the ones who will generate more money to the company.\n",
        "# On the other hand, man with bachelor degree will represent less profit.\n",
        "\n",
        "# because insurance companies make more money, actually based on risk/risk of accidents, and if women have a higher number of events, you will probably find more\n",
        "# expensive cars and insurance policies in this group. Maybe that's way they generate more money (???) :D\n"
      ],
      "metadata": {
        "id": "WZs450LrgrVl"
      },
      "id": "WZs450LrgrVl",
      "execution_count": null,
      "outputs": []
    },
    {
      "cell_type": "markdown",
      "id": "32c7f2e5-3d90-43e5-be33-9781b6069198",
      "metadata": {
        "id": "32c7f2e5-3d90-43e5-be33-9781b6069198"
      },
      "source": [
        "## Bonus\n",
        "\n",
        "You work at the customer service department and you want to know which months had the highest number of complaints by policy type category. Create a summary table showing the number of complaints by policy type and month.\n",
        "Show it in a long format table."
      ]
    },
    {
      "cell_type": "markdown",
      "id": "e3d09a8f-953c-448a-a5f8-2e5a8cca7291",
      "metadata": {
        "id": "e3d09a8f-953c-448a-a5f8-2e5a8cca7291"
      },
      "source": [
        "*In data analysis, a long format table is a way of structuring data in which each observation or measurement is stored in a separate row of the table. The key characteristic of a long format table is that each column represents a single variable, and each row represents a single observation of that variable.*\n",
        "\n",
        "*More information about long and wide format tables here: https://www.statology.org/long-vs-wide-data/*"
      ]
    },
    {
      "cell_type": "code",
      "execution_count": null,
      "id": "3a069e0b-b400-470e-904d-d17582191be4",
      "metadata": {
        "id": "3a069e0b-b400-470e-904d-d17582191be4"
      },
      "outputs": [],
      "source": [
        "# Your code goes here"
      ]
    }
  ],
  "metadata": {
    "kernelspec": {
      "display_name": "Python 3 (ipykernel)",
      "language": "python",
      "name": "python3"
    },
    "language_info": {
      "codemirror_mode": {
        "name": "ipython",
        "version": 3
      },
      "file_extension": ".py",
      "mimetype": "text/x-python",
      "name": "python",
      "nbconvert_exporter": "python",
      "pygments_lexer": "ipython3",
      "version": "3.9.13"
    },
    "colab": {
      "provenance": []
    }
  },
  "nbformat": 4,
  "nbformat_minor": 5
}